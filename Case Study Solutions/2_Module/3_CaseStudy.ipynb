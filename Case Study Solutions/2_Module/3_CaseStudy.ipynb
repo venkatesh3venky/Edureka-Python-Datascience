{
 "cells": [
  {
   "cell_type": "markdown",
   "metadata": {},
   "source": [
    "# Module 2: Sequences and File Operations"
   ]
  },
  {
   "cell_type": "code",
   "execution_count": 1,
   "metadata": {},
   "outputs": [],
   "source": [
    "import base64 # Used for encoding"
   ]
  },
  {
   "cell_type": "markdown",
   "metadata": {},
   "source": [
    "### Take Input from user"
   ]
  },
  {
   "cell_type": "code",
   "execution_count": 2,
   "metadata": {},
   "outputs": [
    {
     "name": "stdout",
     "output_type": "stream",
     "text": [
      "Enter Reference ID: HelloWorld\n",
      "Reference ID should be 12 characters\n"
     ]
    }
   ],
   "source": [
    "reference_id = input ('Enter Reference ID: ')\n",
    "if(len(reference_id) != 12):\n",
    "    print(\"Reference ID should be 12 characters\")\n"
   ]
  },
  {
   "cell_type": "code",
   "execution_count": 3,
   "metadata": {},
   "outputs": [],
   "source": [
    "# list of characters allowed\n",
    "allowed_chars = \"ABCDEFGHIJKLMNOPQRSTUVWXYZ\" + \"abcdefghijklmnopqrstuvwxyz\" +  \"0123456789\"\n",
    "\n",
    "is_validated = True\n"
   ]
  },
  {
   "cell_type": "code",
   "execution_count": 4,
   "metadata": {},
   "outputs": [],
   "source": [
    "for c in reference_id:\n",
    "    if (c not in allowed_chars):\n",
    "        is_validated = False\n",
    "        break\n"
   ]
  },
  {
   "cell_type": "code",
   "execution_count": 5,
   "metadata": {},
   "outputs": [
    {
     "name": "stdout",
     "output_type": "stream",
     "text": [
      "Is validated: True\n",
      " Congratulations!!! ReferenceID is encrypted, You are Safe from Hackers: b'SGVsbG9Xb3JsZA=='\n"
     ]
    }
   ],
   "source": [
    "print(\"Is validated:\", is_validated)\n",
    "if(not is_validated) :\n",
    "    print(\"Reference ID should contain only number and alphabets\")\n",
    "\n",
    "\n",
    "\n",
    "# Encrypt the Reference ID:\n",
    "\n",
    "reference_id_encrypt = base64.b64encode(reference_id.encode())\n",
    "\n",
    "print(\" Congratulations!!! ReferenceID is encrypted, You are Safe from Hackers:\",reference_id_encrypt )\n"
   ]
  },
  {
   "cell_type": "code",
   "execution_count": null,
   "metadata": {},
   "outputs": [],
   "source": []
  }
 ],
 "metadata": {
  "kernelspec": {
   "display_name": "Python 3",
   "language": "python",
   "name": "python3"
  },
  "language_info": {
   "codemirror_mode": {
    "name": "ipython",
    "version": 3
   },
   "file_extension": ".py",
   "mimetype": "text/x-python",
   "name": "python",
   "nbconvert_exporter": "python",
   "pygments_lexer": "ipython3",
   "version": "3.6.3"
  }
 },
 "nbformat": 4,
 "nbformat_minor": 2
}
